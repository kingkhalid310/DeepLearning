{
 "cells": [
  {
   "cell_type": "code",
   "execution_count": 1,
   "metadata": {},
   "outputs": [],
   "source": [
    "import numpy as np\n",
    "import matplotlib.pyplot as plt\n",
    "import pandas as pd\n",
    "import keras\n",
    "\n",
    "from keras import models\n",
    "from keras import layers\n",
    "from keras import losses\n",
    "from keras import optimizers\n",
    "from keras import metrics\n",
    "from keras.utils import to_categorical\n",
    "from keras.models import Sequential\n",
    "from keras.layers import Dense, Activation\n",
    "from keras.models import load_model\n",
    "from keras.layers.normalization import BatchNormalization\n",
    "from keras.layers import Dropout\n",
    "\n",
    "from sklearn.model_selection import train_test_split\n",
    "\n",
    "np.random.seed(0)"
   ]
  },
  {
   "cell_type": "code",
   "execution_count": 2,
   "metadata": {},
   "outputs": [],
   "source": [
    "# Loading the training and testing dataset\n",
    "def load_data(file):\n",
    "    df = pd.read_csv(file, sep=';')\n",
    "    # Removing the quality column as it is not a continuous value\n",
    "    df.drop(\"quality\", axis=1, inplace=True)\n",
    "    # Seperating the features and target values\n",
    "    X = df.iloc[:, 0:df.shape[1]-1]\n",
    "    y = df.iloc[:, df.shape[1]-1]\n",
    "    # Separating the training (70%) and testing set (30%)\n",
    "    trainX, testX, trainY, testY = train_test_split(X, y, test_size=0.3, random_state=0)\n",
    "    # Converting the input and output datatype to float\n",
    "    trainX = trainX.astype('float32')\n",
    "    testX = testX.astype('float32')\n",
    "    trainY = trainY.astype('float32')\n",
    "    testY = testY.astype('float32')\n",
    "    # Normalizing the input dataframe\n",
    "    trainX = (trainX-trainX.mean()) / trainX.std()\n",
    "    testX = (testX-testX.mean()) / testX.std()\n",
    "    return trainX, trainY, testX, testY\n",
    "\n",
    "\n",
    "# Defining the sequential model\n",
    "def define_model():\n",
    "    model = Sequential()\n",
    "    model.add(Dense(512, activation='relu', input_shape=(10,)))\n",
    "    model.add(Dropout(0.2))\n",
    "    model.add(Dense(128, activation='relu'))\n",
    "    model.add(Dropout(0.2))\n",
    "    model.add(Dense(32, activation='relu'))\n",
    "    model.add(BatchNormalization())\n",
    "    model.add(Dense(16, activation='relu'))\n",
    "    model.add(BatchNormalization())\n",
    "    model.add(Dense(1))\n",
    "    rmsprop = optimizers.RMSprop(lr=0.001, rho=0.9, epsilon=1e-07, decay=0.0)\n",
    "    #adam = optimizers.Adam(lr=0.01, beta_1=0.9, beta_2=0.999, epsilon=1e-07, decay=0.0, amsgrad=False)\n",
    "    #sgd = optimizers.SGD(lr=0.01, decay=1e-6, momentum=0.9, nesterov=True)\n",
    "    model.compile(loss=losses.mean_squared_error, optimizer='rmsprop', metrics=[metrics.mse])\n",
    "    #mean_squared_error, mean_absolute_error, log_cosh\n",
    "    return model\n",
    "\n",
    "\n",
    "# Plotting the training and validation loss\n",
    "def plot_losses(history):\n",
    "    train_loss = history.history['mean_squared_error']\n",
    "    val_loss = history.history['val_mean_squared_error']\n",
    "    epochs = range(1, len(train_loss)+1)\n",
    "    plt.figure(figsize=(10,5), facecolor='w')\n",
    "    plt.plot(epochs, train_loss, 'bo', label='Training Loss')    #Blue dots\n",
    "    plt.plot(epochs, val_loss, 'r', label='Validation Loss')     #Red line\n",
    "    plt.title('Training and Validation loss')\n",
    "    plt.ylabel('MSE')\n",
    "    plt.xlabel('Epochs')\n",
    "    plt.legend(loc='upper right')\n",
    "    #plt.savefig('train_loss.png') #saving plots\n",
    "    plt.show()"
   ]
  },
  {
   "cell_type": "code",
   "execution_count": 3,
   "metadata": {},
   "outputs": [],
   "source": [
    "# Building the model and running the model\n",
    "def run_model():\n",
    "    # Loading the dataset\n",
    "    trainX, trainY, testX, testY = load_data(\"winequality-white.csv\")\n",
    "    # Defining the model\n",
    "    model = define_model()\n",
    "    # Fitting the model\n",
    "    history = model.fit(trainX, trainY, epochs=130, batch_size=512, validation_split=0.3, verbose=0)\n",
    "    # Plotting the learning curves\n",
    "    plot_losses(history)\n",
    "    model.save('regression.h5')"
   ]
  },
  {
   "cell_type": "code",
   "execution_count": 4,
   "metadata": {},
   "outputs": [
    {
     "data": {
      "image/png": "[encoded data removed]",
      "text/plain": [
       "<Figure size 720x360 with 1 Axes>"
      ]
     },
     "metadata": {},
     "output_type": "display_data"
    }
   ],
   "source": [
    "# Executing the model\n",
    "run_model()"
   ]
  },
  {
   "cell_type": "code",
   "execution_count": 5,
   "metadata": {},
   "outputs": [
    {
     "name": "stdout",
     "output_type": "stream",
     "text": [
      "Mean Squared Error = 0.19\n"
     ]
    }
   ],
   "source": [
    "# Loading the saved model and evaluating on the test data\n",
    "trainX, trainY, testX, testY = load_data(\"winequality-white.csv\")\n",
    "final_model = load_model('regression.h5')\n",
    "_, final_mse  = final_model.evaluate(testX, testY, verbose=0)\n",
    "print('Mean Squared Error = %.2f' % (final_mse))"
   ]
  },
  {
   "cell_type": "code",
   "execution_count": null,
   "metadata": {},
   "outputs": [],
   "source": []
  }
 ],
 "metadata": {
  "kernelspec": {
   "display_name": "Python 3",
   "language": "python",
   "name": "python3"
  },
  "language_info": {
   "codemirror_mode": {
    "name": "ipython",
    "version": 3
   },
   "file_extension": ".py",
   "mimetype": "text/x-python",
   "name": "python",
   "nbconvert_exporter": "python",
   "pygments_lexer": "ipython3",
   "version": "3.8.5"
  }
 },
 "nbformat": 4,
 "nbformat_minor": 4
}
