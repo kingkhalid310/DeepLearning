{
 "cells": [
  {
   "cell_type": "code",
   "execution_count": 1,
   "metadata": {},
   "outputs": [],
   "source": [
    "# Loading the libraries\n",
    "import sys\n",
    "import matplotlib.pyplot as plt\n",
    "from sklearn.model_selection import train_test_split, KFold\n",
    "from keras.utils import to_categorical\n",
    "from keras.models import Sequential, load_model\n",
    "from keras.layers import Dense, Activation\n",
    "import numpy as np\n",
    "import pandas as pd"
   ]
  },
  {
   "cell_type": "code",
   "execution_count": 2,
   "metadata": {},
   "outputs": [],
   "source": [
    "# Loading the training and test dataset\n",
    "def load_crime_data(file):\n",
    "    df = pd.read_csv(file, header=None, na_values='?')\n",
    "    \n",
    "    # Dropping the non-predictive or non-useful features from selected columns\n",
    "    df.drop(columns=range(0,5), axis=1, inplace=True)\n",
    "    \n",
    "    # Selecting the columns having one or more missing values (NaN)\n",
    "    cols_with_nan = df.columns[df.isnull().any()]\n",
    "    \n",
    "    # Columns with too many NaNs are removed\n",
    "    df.drop(columns=cols_with_nan[1:], axis=1, inplace=True)\n",
    "    \n",
    "    # Filling the one missing value of column 30 by its mean\n",
    "    df.fillna(df.mean(), inplace=True)\n",
    "    \n",
    "    # Seperating the features and target values and putting into X and Y\n",
    "    X = df.iloc[:, 0:df.shape[1]-1] # All the columns\n",
    "    Y = df.iloc[:, df.shape[1]-1] # Just the last column\n",
    "    \n",
    "    # Separating the training and testing datasets (20%)\n",
    "    trainX, testX, trainY, testY = train_test_split(X, Y, test_size=0.2, random_state=42)\n",
    "    \n",
    "    # Normalizing the input dataframe using Mean normaliztion\n",
    "    trainX = (trainX-trainX.mean()) / trainX.std()\n",
    "    testX = (testX-testX.mean()) / testX.std()\n",
    "    \n",
    "    # Returning the relevant data\n",
    "    return trainX, np.ravel(trainY), testX, np.ravel(testY)\n",
    "\n",
    "\n",
    "# Defining the sequencial model\n",
    "def define_model():\n",
    "    model = Sequential()\n",
    "    model.add(Dense(64, activation='relu', input_shape=(100,)))\n",
    "    model.add(Dense(64, activation='relu'))\n",
    "    model.add(Dense(1))\n",
    "    model.compile(optimizer='rmsprop', loss='mse', metrics=['mae'])\n",
    "    \n",
    "    return model\n",
    "\n",
    "def cross_val(trainX, trainY, n_split, n_epochs, batch_):\n",
    "    all_scores = []\n",
    "    all_mae_histories = []\n",
    "    \n",
    "    # K-Fold cross validation    \n",
    "    cv = KFold(n_splits=n_split, random_state=42)\n",
    "\n",
    "    for train, test in cv.split(trainX, trainY):\n",
    "        partial_train_data, partial_train_targets = trainX.iloc[train, :], trainY[train]\n",
    "        val_data, val_targets = trainX.iloc[test, :], trainY[test]\n",
    "        \n",
    "        # Training using the training fold\n",
    "        model = define_model()\n",
    "        history = model.fit(partial_train_data, partial_train_targets, epochs = n_epochs, batch_size = batch_, verbose=0)\n",
    "        \n",
    "        # Recording the training performance\n",
    "        mae_history = history.history['mae']\n",
    "        all_mae_histories.append(mae_history)\n",
    "        \n",
    "        # Recording the validation performance per fold\n",
    "        val_mse, val_mae = model.evaluate(val_data, val_targets)\n",
    "        all_scores.append(val_mae)\n",
    "\n",
    "    #Per epoch average mae score for all folds\n",
    "    average_mae_history = [np.mean([x[i] for x in all_mae_histories]) for i in range(n_epochs)]\n",
    "    return average_mae_history, all_scores, model\n",
    "\n",
    "def plotResult(average_mae_history):\n",
    "    plt.figure(1)\n",
    "    plt.plot(range(1, len(average_mae_history)+1), average_mae_history)    \n",
    "    plt.xlabel('Epochs')\n",
    "    plt.ylabel('Validation MAE')\n",
    "    plt.savefig('Validation_mae.png')\n",
    "    plt.show()"
   ]
  },
  {
   "cell_type": "code",
   "execution_count": 3,
   "metadata": {},
   "outputs": [],
   "source": [
    "# Defining the model\n",
    "def run_model():\n",
    "    trainX, trainY, testX, testY = load_crime_data('communities.data')\n",
    "    \n",
    "    # Running the cross validation\n",
    "    avg_mae_history, val_fold_scores, model = cross_val(trainX, trainY, n_split=10, n_epochs=1500, batch_=64)\n",
    "    model.save('crime_model.h5')\n",
    "    \n",
    "    # Evaluatng the model\n",
    "    plotResult(avg_mae_history)\n",
    "    print('K-fold Validation MAE Scores', val_fold_scores)\n",
    "    print('Average Validation Score:', np.mean(val_fold_scores))"
   ]
  },
  {
   "cell_type": "code",
   "execution_count": 4,
   "metadata": {},
   "outputs": [
    {
     "name": "stderr",
     "output_type": "stream",
     "text": [
      "/opt/anaconda3/lib/python3.8/site-packages/sklearn/model_selection/_split.py:293: FutureWarning: Setting a random_state has no effect since shuffle is False. This will raise an error in 0.24. You should leave random_state to its default (None), or set shuffle=True.\n",
      "  warnings.warn(\n"
     ]
    },
    {
     "name": "stdout",
     "output_type": "stream",
     "text": [
      "5/5 [==============================] - 0s 818us/step - loss: 0.0211 - mae: 0.1036\n",
      "5/5 [==============================] - 0s 684us/step - loss: 0.0204 - mae: 0.0994\n",
      "5/5 [==============================] - 0s 941us/step - loss: 0.0222 - mae: 0.1099\n",
      "5/5 [==============================] - 0s 913us/step - loss: 0.0248 - mae: 0.1021\n",
      "5/5 [==============================] - 0s 802us/step - loss: 0.0294 - mae: 0.1203\n",
      "5/5 [==============================] - 0s 754us/step - loss: 0.0199 - mae: 0.0969\n",
      "5/5 [==============================] - 0s 683us/step - loss: 0.0198 - mae: 0.0950\n",
      "5/5 [==============================] - 0s 710us/step - loss: 0.0209 - mae: 0.1072\n",
      "5/5 [==============================] - 0s 796us/step - loss: 0.0231 - mae: 0.0961\n",
      "5/5 [==============================] - 0s 850us/step - loss: 0.0211 - mae: 0.0987\n"
     ]
    },
    {
     "data": {
      "image/png": "[encoded data removed]",
      "text/plain": [
       "<Figure size 432x288 with 1 Axes>"
      ]
     },
     "metadata": {
      "needs_background": "light"
     },
     "output_type": "display_data"
    },
    {
     "name": "stdout",
     "output_type": "stream",
     "text": [
      "K-fold Validation MAE Scores [0.10363873094320297, 0.09944131225347519, 0.10992560535669327, 0.10207416862249374, 0.12031766027212143, 0.09687363356351852, 0.0949840396642685, 0.10718996822834015, 0.09614656865596771, 0.09865924715995789]\n",
      "Average Validation Score: 0.10292509347200393\n"
     ]
    }
   ],
   "source": [
    "# Running the model\n",
    "run_model()"
   ]
  },
  {
   "cell_type": "code",
   "execution_count": 5,
   "metadata": {},
   "outputs": [
    {
     "name": "stdout",
     "output_type": "stream",
     "text": [
      "Mean Absolute Error = 0.11\n"
     ]
    }
   ],
   "source": [
    "# Loading the saved model and evaluating it on the test data\n",
    "trainX, trainY, testX, testY = load_crime_data('communities.data')\n",
    "final_model = load_model('crime_model.h5')\n",
    "_, final_mae  = final_model.evaluate(testX, testY, verbose=0)\n",
    "\n",
    "print('Mean Absolute Error = %.2f' % (final_mae))"
   ]
  },
  {
   "cell_type": "code",
   "execution_count": null,
   "metadata": {},
   "outputs": [],
   "source": []
  }
 ],
 "metadata": {
  "kernelspec": {
   "display_name": "Python 3",
   "language": "python",
   "name": "python3"
  },
  "language_info": {
   "codemirror_mode": {
    "name": "ipython",
    "version": 3
   },
   "file_extension": ".py",
   "mimetype": "text/x-python",
   "name": "python",
   "nbconvert_exporter": "python",
   "pygments_lexer": "ipython3",
   "version": "3.8.5"
  }
 },
 "nbformat": 4,
 "nbformat_minor": 4
}
