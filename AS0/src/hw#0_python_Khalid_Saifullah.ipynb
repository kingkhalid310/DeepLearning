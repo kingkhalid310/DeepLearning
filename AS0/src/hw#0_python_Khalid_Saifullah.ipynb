{
 "cells": [
  {
   "cell_type": "markdown",
   "metadata": {},
   "source": [
    "***\n",
    " **Name:** Khalid Saifullah \\\n",
    " **Student ID:** A20423546 \\\n",
    " **Course:** CS577 \\\n",
    " **Semester:** Spring 2021"
   ]
  },
  {
   "cell_type": "code",
   "execution_count": 11,
   "metadata": {},
   "outputs": [],
   "source": [
    "import numpy as np"
   ]
  },
  {
   "cell_type": "markdown",
   "metadata": {},
   "source": [
    "# Answer to the Question No. A"
   ]
  },
  {
   "cell_type": "code",
   "execution_count": 12,
   "metadata": {},
   "outputs": [],
   "source": [
    "#Given\n",
    "\n",
    "a = np.array([[1], [2], [3]])\n",
    "b = np.array([[4], [5], [6]])\n",
    "c = np.array([[-1], [1], [3]])"
   ]
  },
  {
   "cell_type": "code",
   "execution_count": 13,
   "metadata": {},
   "outputs": [],
   "source": [
    "#Solutions\n",
    "\n",
    "ansA1 = 2*a - b\n",
    "ansA2 = a / np.linalg.norm(a)\n",
    "ansA3a = np.linalg.norm(a)\n",
    "ansA3b = np.arccos(a[0] / ansA3a)\n",
    "ansA4 = a / ansA3a\n",
    "ansA5 = np.arccos(np.dot(a.T,b)/(np.linalg.norm(a) * np.linalg.norm(b)))\n",
    "ansA6a = np.dot(a.T,b)\n",
    "ansA6b = np.dot(b.T,a)\n",
    "ansA7 = np.linalg.norm(a) * np.linalg.norm(b) * np.cos(ansA5)\n",
    "ansA8 = np.dot(b.T,ansA2)\n",
    "ansA9 = np.cross(a.T,np.random.randint(5, size=np.size(a)))\n",
    "ansA10a = np.cross(a.T,b.T)\n",
    "ansA10b = np.cross(b.T,a.T)\n",
    "ansA11 = np.cross(a.T,b.T)\n",
    "ansA12 = np.linalg.lstsq(np.column_stack([a, b]), c, rcond=None)[0]\n",
    "ansA13a = np.dot(a.T,b)\n",
    "ansA13b = np.dot(a,b.T)"
   ]
  },
  {
   "cell_type": "code",
   "execution_count": 14,
   "metadata": {},
   "outputs": [
    {
     "name": "stdout",
     "output_type": "stream",
     "text": [
      "1. [[-2]\n",
      " [-1]\n",
      " [ 0]] \n",
      "\n",
      "2. The unit vector in the direction of a is \n",
      " [[0.26726124]\n",
      " [0.53452248]\n",
      " [0.80178373]] \n",
      "\n",
      "3. ||a|| is  3.7416573867739413 radians\n",
      "The angle of a relative to the positive x axis is  1.3002465638163236 radians. \n",
      "\n",
      "4. The direction cosines of a is\n",
      " [[0.26726124]\n",
      " [0.53452248]\n",
      " [0.80178373]] \n",
      "\n",
      "5. The angle between a and b is 0.2257261285527342 radians.\n",
      "\n",
      "6. a.b is  32 and b.a is  32 \n",
      "\n",
      "7. a.b by using the angle between a and b is  32.0 \n",
      "\n",
      "8. The scalar projection of b onto a^ is  8.55235974119758 \n",
      "\n",
      "9. A vector which is perpendicular to a is  [[-5  1  1]] \n",
      "\n",
      "10. a x b is  [[-3  6 -3]] and b x a is  [[ 3 -6  3]] \n",
      "\n",
      "11. A vector which is perpendicular to both a and b is  [[-3  6 -3]] \n",
      "\n",
      "12. The linear dependence of c on [a; b] is  3 *a -1 *b\n",
      "\n",
      "13. aTb is  [[32]] and abT is  [[ 4  5  6]\n",
      " [ 8 10 12]\n",
      " [12 15 18]] \n",
      "\n"
     ]
    }
   ],
   "source": [
    "print('1.', ansA1, '\\n')\n",
    "print('2. The unit vector in the direction of a is \\n', ansA2, '\\n')\n",
    "print('3. ||a|| is ', ansA3a, 'radians')\n",
    "print('The angle of a relative to the positive x axis is ', ansA3b.item(0), 'radians. \\n')\n",
    "print('4. The direction cosines of a is\\n', ansA4, '\\n')\n",
    "print('5. The angle between a and b is', ansA5.item(0), 'radians.\\n')\n",
    "print('6. a.b is ', ansA6a.item(0), 'and b.a is ', ansA6b.item(0), '\\n')\n",
    "print('7. a.b by using the angle between a and b is ', ansA7.item(0), '\\n')\n",
    "print('8. The scalar projection of b onto a^ is ', ansA8.item(0), '\\n')\n",
    "print('9. A vector which is perpendicular to a is ', ansA9, '\\n')\n",
    "print('10. a x b is ', ansA10a, 'and b x a is ', ansA10b, '\\n')\n",
    "print('11. A vector which is perpendicular to both a and b is ', ansA11, '\\n')\n",
    "print('12. The linear dependence of c on [a; b] is ', round(ansA12.item(0)), '*a', round(ansA12.item(1)), '*b\\n')\n",
    "print('13. aTb is ', ansA13a, 'and abT is ', ansA13b, '\\n')"
   ]
  },
  {
   "cell_type": "markdown",
   "metadata": {},
   "source": [
    "# Answer to the Question No. B"
   ]
  },
  {
   "cell_type": "code",
   "execution_count": 15,
   "metadata": {},
   "outputs": [],
   "source": [
    "#Given\n",
    "\n",
    "A = np.array([[1, 2, 3], [4, -2, 3], [0, 5, -1]])\n",
    "B = np.array([[1, 2, 1], [2, 1, -4], [3, -2, 1]])\n",
    "C = np.array([[1, 2, 3], [4, 5, 6], [-1, 1, 3]])\n",
    "d = np.array([[1], [2], [3]])"
   ]
  },
  {
   "cell_type": "code",
   "execution_count": 16,
   "metadata": {},
   "outputs": [],
   "source": [
    "#Solutions\n",
    "\n",
    "ansB1 = 2*A-B\n",
    "ansB2a = np.matmul(A,B)\n",
    "ansB2b = np.matmul(B,A)\n",
    "ansB3a = np.matmul(A,B).T\n",
    "ansB3b = np.matmul(B.T,A.T)\n",
    "ansB4a = np.linalg.det(A)\n",
    "ansB4b = np.linalg.det(C)\n",
    "ansB6a = np.linalg.inv(A)\n",
    "ansB6b = np.linalg.inv(B)\n",
    "ansB7 = np.linalg.inv(C)\n",
    "ansB8 = np.matmul(A,d)\n",
    "ansB9a = np.dot(A[0], d)\n",
    "ansB9b = np.dot(A[1], d)\n",
    "ansB9c = np.dot(A[2], d)\n",
    "ansB10 = np.linalg.solve(A,d)\n",
    "ansB11 = np.matrix.round(np.linalg.solve(B,d))\n",
    "ansB12 = np.linalg.solve(C,d)"
   ]
  },
  {
   "cell_type": "code",
   "execution_count": 17,
   "metadata": {},
   "outputs": [
    {
     "name": "stdout",
     "output_type": "stream",
     "text": [
      "1. [[ 1  2  5]\n",
      " [ 6 -5 10]\n",
      " [-3 12 -3]] \n",
      "\n",
      "2. AB is\n",
      " [[ 14  -2  -4]\n",
      " [  9   0  15]\n",
      " [  7   7 -21]] \n",
      "\n",
      " and BA is\n",
      " [[  9   3   8]\n",
      " [  6 -18  13]\n",
      " [ -5  15   2]] \n",
      "\n",
      "3. (AB)^T is\n",
      " [[ 14   9   7]\n",
      " [ -2   0   7]\n",
      " [ -4  15 -21]] \n",
      "\n",
      " and B^T A^T is\n",
      " [[ 14   9   7]\n",
      " [ -2   0   7]\n",
      " [ -4  15 -21]] \n",
      "\n",
      "4. |A| is 55.0 and |B| is 0.0 \n",
      "\n",
      "5. For two vectors to be orthogonal, their dot product has to be equal to 0.\n",
      " For matrix A, row1 (dot) row2 =  9 \n",
      " row1 (dot) row3 =  7 \n",
      " row2 (dot) row3 =  -13 \n",
      "\n",
      " For matrix B, row1 (dot) row2 =  0 \n",
      " row1 (dot) row3 =  0 \n",
      " row2 (dot) row3 =  0 \n",
      "\n",
      " For matrix C, row1 (dot) row2 =  32 \n",
      " row1 (dot) row3 =  10 \n",
      " row2 (dot) row3 =  19 \n",
      "\n",
      " Here, the rows of ONLY matrix B are orthogonal to each other.\n",
      "\n",
      "6. A^-1 is\n",
      " [[-0.23636364  0.30909091  0.21818182]\n",
      " [ 0.07272727 -0.01818182  0.16363636]\n",
      " [ 0.36363636 -0.09090909 -0.18181818]] \n",
      "\n",
      "B^-1 is\n",
      " [[ 0.16666667  0.0952381   0.21428571]\n",
      " [ 0.33333333  0.04761905 -0.14285714]\n",
      " [ 0.16666667 -0.19047619  0.07142857]] \n",
      "\n",
      "7. C^-1 is\n",
      " [[ 1.20095990e+16 -4.00319967e+15 -4.00319967e+15]\n",
      " [-2.40191980e+16  8.00639934e+15  8.00639934e+15]\n",
      " [ 1.20095990e+16 -4.00319967e+15 -4.00319967e+15]] \n",
      "\n",
      "8. The porduct of Ad is\n",
      " [[14]\n",
      " [ 9]\n",
      " [ 7]] \n",
      "\n",
      "9. The projection of the rows of A onto the vector d are\n",
      " 14 , 9 and 7 \n",
      "\n",
      "10. column1 * 1.0363636363636364 column2 * 0.5272727272727272 column3 * -0.36363636363636365 \n",
      "\n",
      "11. The solution x for the equation is\n",
      " [[ 1.]\n",
      " [ 0.]\n",
      " [-0.]] \n",
      "\n",
      "12. The solution x for the equation is\n",
      " [[-8.00639934e+15]\n",
      " [ 1.60127987e+16]\n",
      " [-8.00639934e+15]] \n",
      "Because the matrix C is a non invertible matrix or singular matrix.\n"
     ]
    }
   ],
   "source": [
    "print('1.', ansB1, '\\n')\n",
    "print('2. AB is\\n', ansB2a, '\\n\\n and BA is\\n', ansB2b, '\\n')\n",
    "print('3. (AB)^T is\\n', ansB3a,  '\\n\\n and B^T A^T is\\n', ansB3b, '\\n')\n",
    "print('4. |A| is', round(ansB4a), 'and |B| is', round(ansB4b), '\\n')\n",
    "print('5. For two vectors to be orthogonal, their dot product has to be equal to 0.\\n',\n",
    "     'For matrix A, row1 (dot) row2 = ', np.dot(A[0,:],A[1,:]), '\\n', \n",
    "     'row1 (dot) row3 = ', np.dot(A[0,:],A[2,:]), '\\n', \n",
    "     'row2 (dot) row3 = ', np.dot(A[1,:],A[2,:]), '\\n\\n', \n",
    "     'For matrix B, row1 (dot) row2 = ', np.dot(B[0,:],B[1,:]), '\\n', \n",
    "     'row1 (dot) row3 = ', np.dot(B[0,:],B[2,:]), '\\n', \n",
    "     'row2 (dot) row3 = ', np.dot(B[1,:],B[2,:]), '\\n\\n', \n",
    "     'For matrix C, row1 (dot) row2 = ', np.dot(C[0,:],C[1,:]), '\\n', \n",
    "     'row1 (dot) row3 = ', np.dot(C[0,:],C[2,:]), '\\n', \n",
    "     'row2 (dot) row3 = ', np.dot(C[1,:],C[2,:]), '\\n\\n', \n",
    "     'Here, the rows of ONLY matrix B are orthogonal to each other.\\n')\n",
    "print('6. A^-1 is\\n', ansB6a, '\\n\\nB^-1 is\\n', ansB6b, '\\n')\n",
    "print('7. C^-1 is\\n', ansB7, '\\n')\n",
    "print('8. The porduct of Ad is\\n', ansB8, '\\n')\n",
    "print('9. The projection of the rows of A onto the vector d are\\n', round(ansB9a.item(0)), ',', round(ansB9b.item(0)), 'and', round(ansB9c.item(0)), '\\n')\n",
    "print('10. column1 *', ansB10.item(0), 'column2 *', ansB10.item(1), 'column3 *', ansB10.item(2), '\\n')\n",
    "print('11. The solution x for the equation is\\n', ansB11, '\\n')\n",
    "print('12. The solution x for the equation is\\n', ansB12, '\\nBecause the matrix C is a non invertible matrix or singular matrix.')"
   ]
  },
  {
   "cell_type": "markdown",
   "metadata": {},
   "source": [
    "# Answer to the Question No. C"
   ]
  },
  {
   "cell_type": "code",
   "execution_count": 18,
   "metadata": {},
   "outputs": [],
   "source": [
    "#Given\n",
    "\n",
    "D = np.array([[1, 2], [3, 2]])\n",
    "E = np.array([[2, -2], [-2, 5]])\n",
    "F = np.array([[1, 2], [2, 4]])"
   ]
  },
  {
   "cell_type": "code",
   "execution_count": 19,
   "metadata": {},
   "outputs": [],
   "source": [
    "#Solutions\n",
    "\n",
    "ansC1 = np.linalg.eig(D)\n",
    "ansC2 = np.matmul(ansC1[1][0],ansC1[1][1])\n",
    "ansC3 = np.matmul(np.linalg.eig(E)[1][0], np.linalg.eig(E)[1][1])\n",
    "ansC5 = np.linalg.lstsq(F, np.zeros((F.shape[0],1)), rcond=None)[0]\n",
    "ansC6 = np.linalg.eig(F)[1]\n",
    "ansC7 = np.linalg.lstsq(F, np.zeros((F.shape[0],1)), rcond=None)[0]"
   ]
  },
  {
   "cell_type": "code",
   "execution_count": 20,
   "metadata": {},
   "outputs": [
    {
     "name": "stdout",
     "output_type": "stream",
     "text": [
      "1. The eigenvalues of D are  -1.0 and 4.0\n",
      "And the eigenvectors of D are [-0.70710678 -0.5547002 ] and [ 0.70710678 -0.83205029] \n",
      "\n",
      "2. The dot product between the eigenvectors of D is -0.038461538461538214 \n",
      "\n",
      "3. The dot product between the eigenvectors of E is 0.0 \n",
      "\n",
      "4. Since the dot product of the eigenvectors of E is 0, they are orthogonal.\n",
      "\n",
      "5. The trivial solution is\n",
      " [[0.]\n",
      " [0.]] \n",
      "\n",
      "6. The two non trivial solutions x are\n",
      " [[-0.89442719 -0.4472136 ]\n",
      " [ 0.4472136  -0.89442719]] \n",
      "\n",
      "7. The solution is\n",
      " [[0.]\n",
      " [0.]] \n",
      "As the determinant of D is non-zero, the homogenous system of linear equations must have a unique (trivial) solution.\n"
     ]
    }
   ],
   "source": [
    "print('1. The eigenvalues of D are ', ansC1[0].item(0), 'and', ansC1[0].item(1))\n",
    "print('And the eigenvectors of D are', ansC1[1][0], 'and', ansC1[1][1], '\\n')\n",
    "print('2. The dot product between the eigenvectors of D is', ansC2, '\\n')\n",
    "print('3. The dot product between the eigenvectors of E is', ansC3, '\\n')\n",
    "print('4. Since the dot product of the eigenvectors of E is 0, they are orthogonal.\\n')\n",
    "print('5. The trivial solution is\\n', ansC5, '\\n')\n",
    "print('6. The two non trivial solutions x are\\n', ansC6, '\\n')\n",
    "print('7. The solution is\\n', ansC7, '\\nAs the determinant of D is non-zero, the homogenous system of linear equations must have a unique (trivial) solution.')"
   ]
  }
 ],
 "metadata": {
  "kernelspec": {
   "display_name": "Python 3",
   "language": "python",
   "name": "python3"
  },
  "language_info": {
   "codemirror_mode": {
    "name": "ipython",
    "version": 3
   },
   "file_extension": ".py",
   "mimetype": "text/x-python",
   "name": "python",
   "nbconvert_exporter": "python",
   "pygments_lexer": "ipython3",
   "version": "3.8.3"
  }
 },
 "nbformat": 4,
 "nbformat_minor": 4
}
